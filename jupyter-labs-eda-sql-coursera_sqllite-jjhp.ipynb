{
 "cells": [
  {
   "cell_type": "markdown",
   "id": "c6dfa2b6-e9c5-49eb-8d07-65339417ed36",
   "metadata": {},
   "source": [
    "<p style=\"text-align:center\">\n",
    "    <a href=\"https://skills.network\" target=\"_blank\">\n",
    "    <img src=\"https://cf-courses-data.s3.us.cloud-object-storage.appdomain.cloud/assets/logos/SN_web_lightmode.png\" width=\"200\" alt=\"Skills Network Logo\">\n",
    "    </a>\n",
    "</p>\n",
    "\n",
    "<h1 align=center><font size = 5>Assignment: SQL Notebook for Peer Assignment</font></h1>\n",
    "\n",
    "Estimated time needed: **60** minutes.\n",
    "\n",
    "## Introduction\n",
    "Using this Python notebook you will:\n",
    "\n",
    "1.  Understand the Spacex DataSet\n",
    "2.  Load the dataset  into the corresponding table in a Db2 database\n",
    "3.  Execute SQL queries to answer assignment questions \n"
   ]
  },
  {
   "cell_type": "markdown",
   "id": "b34a452f-a2d6-45cd-9bac-2993d6bb9e6b",
   "metadata": {},
   "source": [
    "## Overview of the DataSet\n",
    "\n",
    "SpaceX has gained worldwide attention for a series of historic milestones. \n",
    "\n",
    "It is the only private company ever to return a spacecraft from low-earth orbit, which it first accomplished in December 2010.\n",
    "SpaceX advertises Falcon 9 rocket launches on its website with a cost of 62 million dollars wheras other providers cost upward of 165 million dollars each, much of the savings is because Space X can reuse the first stage. \n",
    "\n",
    "\n",
    "Therefore if we can determine if the first stage will land, we can determine the cost of a launch. \n",
    "\n",
    "This information can be used if an alternate company wants to bid against SpaceX for a rocket launch.\n",
    "\n",
    "This dataset includes a record for each payload carried during a SpaceX mission into outer space.\n"
   ]
  },
  {
   "cell_type": "markdown",
   "id": "dd289c46-2a50-47d8-86c5-2d0e7f7f38f4",
   "metadata": {},
   "source": [
    "### Download the datasets\n",
    "\n",
    "This assignment requires you to load the spacex dataset.\n",
    "\n",
    "In many cases the dataset to be analyzed is available as a .CSV (comma separated values) file, perhaps on the internet. Click on the link below to download and save the dataset (.CSV file):\n",
    "\n",
    " <a href=\"https://cf-courses-data.s3.us.cloud-object-storage.appdomain.cloud/IBM-DS0321EN-SkillsNetwork/labs/module_2/data/Spacex.csv\" target=\"_blank\">Spacex DataSet</a>\n",
    "\n"
   ]
  },
  {
   "cell_type": "code",
   "execution_count": 2,
   "id": "5ba83a1f-49bc-495e-8bfb-6911b4c19d2d",
   "metadata": {},
   "outputs": [
    {
     "name": "stdout",
     "output_type": "stream",
     "text": [
      "Requirement already satisfied: sqlalchemy==1.3.9 in c:\\users\\john_\\appdata\\local\\programs\\python\\python311\\lib\\site-packages (1.3.9)\n"
     ]
    }
   ],
   "source": [
    "!pip install sqlalchemy==1.3.9\n"
   ]
  },
  {
   "cell_type": "markdown",
   "id": "c9da785d-df95-4616-8707-cc1b11b29a92",
   "metadata": {},
   "source": [
    "### Connect to the database\n",
    "\n",
    "Let us first load the SQL extension and establish a connection with the database\n"
   ]
  },
  {
   "cell_type": "code",
   "execution_count": 3,
   "id": "2d848f02-aa97-44e8-9113-7597259bcd16",
   "metadata": {},
   "outputs": [
    {
     "name": "stdout",
     "output_type": "stream",
     "text": [
      "Requirement already satisfied: ipython-sql in c:\\users\\john_\\appdata\\local\\programs\\python\\python311\\lib\\site-packages (0.5.0)\n",
      "Requirement already satisfied: prettytable in c:\\users\\john_\\appdata\\local\\programs\\python\\python311\\lib\\site-packages (from ipython-sql) (3.11.0)\n",
      "Requirement already satisfied: ipython in c:\\users\\john_\\appdata\\local\\programs\\python\\python311\\lib\\site-packages (from ipython-sql) (8.14.0)\n",
      "Collecting sqlalchemy>=2.0 (from ipython-sql)\n",
      "  Using cached SQLAlchemy-2.0.35-cp311-cp311-win_amd64.whl.metadata (9.9 kB)\n",
      "Requirement already satisfied: sqlparse in c:\\users\\john_\\appdata\\local\\programs\\python\\python311\\lib\\site-packages (from ipython-sql) (0.5.1)\n",
      "Requirement already satisfied: six in c:\\users\\john_\\appdata\\local\\programs\\python\\python311\\lib\\site-packages (from ipython-sql) (1.16.0)\n",
      "Requirement already satisfied: ipython-genutils in c:\\users\\john_\\appdata\\local\\programs\\python\\python311\\lib\\site-packages (from ipython-sql) (0.2.0)\n",
      "Requirement already satisfied: typing-extensions>=4.6.0 in c:\\users\\john_\\appdata\\local\\programs\\python\\python311\\lib\\site-packages (from sqlalchemy>=2.0->ipython-sql) (4.6.3)\n",
      "Requirement already satisfied: greenlet!=0.4.17 in c:\\users\\john_\\appdata\\local\\programs\\python\\python311\\lib\\site-packages (from sqlalchemy>=2.0->ipython-sql) (3.1.1)\n",
      "Requirement already satisfied: backcall in c:\\users\\john_\\appdata\\local\\programs\\python\\python311\\lib\\site-packages (from ipython->ipython-sql) (0.2.0)\n",
      "Requirement already satisfied: decorator in c:\\users\\john_\\appdata\\local\\programs\\python\\python311\\lib\\site-packages (from ipython->ipython-sql) (5.1.1)\n",
      "Requirement already satisfied: jedi>=0.16 in c:\\users\\john_\\appdata\\local\\programs\\python\\python311\\lib\\site-packages (from ipython->ipython-sql) (0.18.2)\n",
      "Requirement already satisfied: matplotlib-inline in c:\\users\\john_\\appdata\\local\\programs\\python\\python311\\lib\\site-packages (from ipython->ipython-sql) (0.1.6)\n",
      "Requirement already satisfied: pickleshare in c:\\users\\john_\\appdata\\local\\programs\\python\\python311\\lib\\site-packages (from ipython->ipython-sql) (0.7.5)\n",
      "Requirement already satisfied: prompt-toolkit!=3.0.37,<3.1.0,>=3.0.30 in c:\\users\\john_\\appdata\\local\\programs\\python\\python311\\lib\\site-packages (from ipython->ipython-sql) (3.0.38)\n",
      "Requirement already satisfied: pygments>=2.4.0 in c:\\users\\john_\\appdata\\local\\programs\\python\\python311\\lib\\site-packages (from ipython->ipython-sql) (2.15.1)\n",
      "Requirement already satisfied: stack-data in c:\\users\\john_\\appdata\\local\\programs\\python\\python311\\lib\\site-packages (from ipython->ipython-sql) (0.6.2)\n",
      "Requirement already satisfied: traitlets>=5 in c:\\users\\john_\\appdata\\local\\programs\\python\\python311\\lib\\site-packages (from ipython->ipython-sql) (5.9.0)\n",
      "Requirement already satisfied: colorama in c:\\users\\john_\\appdata\\local\\programs\\python\\python311\\lib\\site-packages (from ipython->ipython-sql) (0.4.6)\n",
      "Requirement already satisfied: wcwidth in c:\\users\\john_\\appdata\\local\\programs\\python\\python311\\lib\\site-packages (from prettytable->ipython-sql) (0.2.6)\n",
      "Requirement already satisfied: parso<0.9.0,>=0.8.0 in c:\\users\\john_\\appdata\\local\\programs\\python\\python311\\lib\\site-packages (from jedi>=0.16->ipython->ipython-sql) (0.8.3)\n",
      "Requirement already satisfied: executing>=1.2.0 in c:\\users\\john_\\appdata\\local\\programs\\python\\python311\\lib\\site-packages (from stack-data->ipython->ipython-sql) (1.2.0)\n",
      "Requirement already satisfied: asttokens>=2.1.0 in c:\\users\\john_\\appdata\\local\\programs\\python\\python311\\lib\\site-packages (from stack-data->ipython->ipython-sql) (2.2.1)\n",
      "Requirement already satisfied: pure-eval in c:\\users\\john_\\appdata\\local\\programs\\python\\python311\\lib\\site-packages (from stack-data->ipython->ipython-sql) (0.2.2)\n",
      "Using cached SQLAlchemy-2.0.35-cp311-cp311-win_amd64.whl (2.1 MB)\n",
      "Installing collected packages: sqlalchemy\n",
      "  Attempting uninstall: sqlalchemy\n",
      "    Found existing installation: SQLAlchemy 1.3.9\n",
      "    Uninstalling SQLAlchemy-1.3.9:\n",
      "      Successfully uninstalled SQLAlchemy-1.3.9\n",
      "Successfully installed sqlalchemy-2.0.35\n"
     ]
    }
   ],
   "source": [
    "!pip install ipython-sql"
   ]
  },
  {
   "cell_type": "code",
   "execution_count": 4,
   "id": "221a5769-206d-4dfe-934f-1367e75c8fc5",
   "metadata": {},
   "outputs": [],
   "source": [
    "%load_ext sql"
   ]
  },
  {
   "cell_type": "code",
   "execution_count": 5,
   "id": "b84676a5-96ff-4a65-9e46-4ebeaf79e02a",
   "metadata": {},
   "outputs": [],
   "source": [
    "import csv, sqlite3\n",
    "\n",
    "con = sqlite3.connect(\"my_data1.db\")\n",
    "cur = con.cursor()"
   ]
  },
  {
   "cell_type": "code",
   "execution_count": 6,
   "id": "a869cc09-7e7a-4164-9df9-058b5a4f4501",
   "metadata": {},
   "outputs": [],
   "source": [
    "!pip install -q pandas"
   ]
  },
  {
   "cell_type": "code",
   "execution_count": 7,
   "id": "47703a07-22bb-451c-aa9d-7da39dea6821",
   "metadata": {},
   "outputs": [],
   "source": [
    "%sql sqlite:///my_data1.db"
   ]
  },
  {
   "cell_type": "code",
   "execution_count": 8,
   "id": "45abbf9a-9efd-4651-b032-30e4d2e6bdac",
   "metadata": {},
   "outputs": [
    {
     "data": {
      "text/plain": [
       "101"
      ]
     },
     "execution_count": 8,
     "metadata": {},
     "output_type": "execute_result"
    }
   ],
   "source": [
    "import pandas as pd\n",
    "df = pd.read_csv(\"https://cf-courses-data.s3.us.cloud-object-storage.appdomain.cloud/IBM-DS0321EN-SkillsNetwork/labs/module_2/data/Spacex.csv\")\n",
    "df.to_sql(\"SPACEXTBL\", con, if_exists='replace', index=False,method=\"multi\")"
   ]
  },
  {
   "cell_type": "markdown",
   "id": "230b8ff8-57c3-4ce7-aa22-11ce1044e849",
   "metadata": {},
   "source": [
    "**Note:This below code is added to remove blank rows from table**\n"
   ]
  },
  {
   "cell_type": "code",
   "execution_count": 9,
   "id": "184e64ba-ba31-4abd-9267-36e8c9edc165",
   "metadata": {},
   "outputs": [
    {
     "name": "stdout",
     "output_type": "stream",
     "text": [
      " * sqlite:///my_data1.db\n",
      "Done.\n"
     ]
    },
    {
     "data": {
      "text/plain": [
       "[]"
      ]
     },
     "execution_count": 9,
     "metadata": {},
     "output_type": "execute_result"
    }
   ],
   "source": [
    "#DROP THE TABLE IF EXISTS\n",
    "\n",
    "%sql DROP TABLE IF EXISTS SPACEXTABLE;"
   ]
  },
  {
   "cell_type": "code",
   "execution_count": 10,
   "id": "b5fb6b50-cb82-4378-966a-bac5f7ec18b4",
   "metadata": {},
   "outputs": [
    {
     "name": "stdout",
     "output_type": "stream",
     "text": [
      " * sqlite:///my_data1.db\n",
      "Done.\n"
     ]
    },
    {
     "data": {
      "text/plain": [
       "[]"
      ]
     },
     "execution_count": 10,
     "metadata": {},
     "output_type": "execute_result"
    }
   ],
   "source": [
    "%sql create table SPACEXTABLE as select * from SPACEXTBL where Date is not null"
   ]
  },
  {
   "cell_type": "markdown",
   "id": "d7430563-360f-48b7-8606-8dab70eecc4e",
   "metadata": {},
   "source": [
    "## Tasks\n",
    "\n",
    "Now write and execute SQL queries to solve the assignment tasks.\n",
    "\n",
    "**Note: If the column names are in mixed case enclose it in double quotes\n",
    "   For Example \"Landing_Outcome\"**\n",
    "\n",
    "### Task 1\n",
    "\n",
    "\n",
    "\n",
    "\n",
    "##### Display the names of the unique launch sites  in the space mission\n"
   ]
  },
  {
   "cell_type": "code",
   "execution_count": 27,
   "id": "3ed5b96b-08c7-4716-8079-a2673cf291e6",
   "metadata": {},
   "outputs": [
    {
     "name": "stdout",
     "output_type": "stream",
     "text": [
      "Index(['Date', 'Time (UTC)', 'Booster_Version', 'Launch_Site', 'Payload',\n",
      "       'PAYLOAD_MASS__KG_', 'Orbit', 'Customer', 'Mission_Outcome',\n",
      "       'Landing_Outcome'],\n",
      "      dtype='object')\n",
      "['CCAFS LC-40' 'VAFB SLC-4E' 'KSC LC-39A' 'CCAFS SLC-40']\n",
      "    Launch_Site  LaunchCount\n",
      "0  CCAFS SLC-40           34\n",
      "1   CCAFS LC-40           26\n",
      "2    KSC LC-39A           25\n",
      "3   VAFB SLC-4E           16\n"
     ]
    }
   ],
   "source": [
    "df = pd.read_sql_query(\"SELECT * FROM SPACEXTABLE\", con)\n",
    "print(df.columns)\n",
    "\n",
    "\n",
    "unique_sites = df['Launch_Site'].unique()\n",
    "print(unique_sites)\n",
    "\n",
    "sql_query = \"\"\"\n",
    "SELECT \"Launch_Site\", COUNT(*) as LaunchCount\n",
    "FROM SPACEXTABLE\n",
    "GROUP BY \"Launch_Site\"\n",
    "ORDER BY LaunchCount DESC\n",
    "\"\"\"\n",
    "\n",
    "launch_counts = pd.read_sql_query(sql_query, con)\n",
    "print(launch_counts)\n",
    "\n"
   ]
  },
  {
   "cell_type": "markdown",
   "id": "8ec11181-8d60-4e96-a894-c43991d3d3de",
   "metadata": {},
   "source": [
    "\n",
    "### Task 2\n",
    "\n",
    "\n",
    "#####  Display 5 records where launch sites begin with the string 'CCA' \n"
   ]
  },
  {
   "cell_type": "code",
   "execution_count": 26,
   "id": "9ed02f84-94a9-4473-88e0-d22cf562b5a7",
   "metadata": {},
   "outputs": [
    {
     "name": "stdout",
     "output_type": "stream",
     "text": [
      "         Date Time (UTC) Booster_Version  Launch_Site  \\\n",
      "0  2010-06-04   18:45:00  F9 v1.0  B0003  CCAFS LC-40   \n",
      "1  2010-12-08   15:43:00  F9 v1.0  B0004  CCAFS LC-40   \n",
      "2  2012-05-22    7:44:00  F9 v1.0  B0005  CCAFS LC-40   \n",
      "3  2012-10-08    0:35:00  F9 v1.0  B0006  CCAFS LC-40   \n",
      "4  2013-03-01   15:10:00  F9 v1.0  B0007  CCAFS LC-40   \n",
      "\n",
      "                                             Payload  PAYLOAD_MASS__KG_  \\\n",
      "0               Dragon Spacecraft Qualification Unit                  0   \n",
      "1  Dragon demo flight C1, two CubeSats, barrel of...                  0   \n",
      "2                              Dragon demo flight C2                525   \n",
      "3                                       SpaceX CRS-1                500   \n",
      "4                                       SpaceX CRS-2                677   \n",
      "\n",
      "       Orbit         Customer Mission_Outcome      Landing_Outcome  \n",
      "0        LEO           SpaceX         Success  Failure (parachute)  \n",
      "1  LEO (ISS)  NASA (COTS) NRO         Success  Failure (parachute)  \n",
      "2  LEO (ISS)      NASA (COTS)         Success           No attempt  \n",
      "3  LEO (ISS)       NASA (CRS)         Success           No attempt  \n",
      "4  LEO (ISS)       NASA (CRS)         Success           No attempt  \n"
     ]
    }
   ],
   "source": [
    "sql_query = \"\"\"\n",
    "SELECT *\n",
    "FROM SPACEXTABLE\n",
    "WHERE \"Launch_Site\" LIKE 'CCA%'\n",
    "LIMIT 5\n",
    "\"\"\"\n",
    "\n",
    "five_cca = pd.read_sql_query(sql_query, con)\n",
    "print(five_cca)"
   ]
  },
  {
   "cell_type": "markdown",
   "id": "ec088752-758d-4f13-a2c3-578dfdb6dc2a",
   "metadata": {},
   "source": [
    "### Task 3\n",
    "\n",
    "\n",
    "\n",
    "\n",
    "##### Display the total payload mass carried by boosters launched by NASA (CRS)\n"
   ]
  },
  {
   "cell_type": "code",
   "execution_count": 28,
   "id": "b8958ac2-26f8-4825-a35a-984dcd73fd7b",
   "metadata": {},
   "outputs": [
    {
     "name": "stdout",
     "output_type": "stream",
     "text": [
      "Total payload mass carried by boosters launched by NASA (CRS):\n",
      "45596 kg\n"
     ]
    }
   ],
   "source": [
    "sql_query = \"\"\"\n",
    "SELECT SUM(PAYLOAD_MASS__KG_) as TotalPayloadMass\n",
    "FROM SPACEXTABLE\n",
    "WHERE Customer = 'NASA (CRS)'\n",
    "\"\"\"\n",
    "\n",
    "result = pd.read_sql_query(sql_query, con)\n",
    "print(\"Total payload mass carried by boosters launched by NASA (CRS):\")\n",
    "print(result['TotalPayloadMass'].values[0], \"kg\")"
   ]
  },
  {
   "cell_type": "markdown",
   "id": "3239d9db-a8aa-4219-9039-a3bb8ca86994",
   "metadata": {},
   "source": [
    "### Task 4\n",
    "\n",
    "\n",
    "\n",
    "\n",
    "##### Display average payload mass carried by booster version F9 v1.1\n"
   ]
  },
  {
   "cell_type": "code",
   "execution_count": 30,
   "id": "12542d86-6940-4ddf-a952-937a6ad11026",
   "metadata": {},
   "outputs": [
    {
     "name": "stdout",
     "output_type": "stream",
     "text": [
      "Average payload mass carried by boosters launched by NASA (CRS):\n",
      "2928.4 kg\n"
     ]
    }
   ],
   "source": [
    "sql_query = \"\"\"\n",
    "SELECT AVG(PAYLOAD_MASS__KG_) as AveragePayloadMass\n",
    "FROM SPACEXTABLE\n",
    "WHERE \"Booster_Version\" = 'F9 v1.1'\n",
    "\"\"\"\n",
    "\n",
    "result = pd.read_sql_query(sql_query, con)\n",
    "print(\"Average payload mass carried by boosters launched by NASA (CRS):\")\n",
    "print(result['AveragePayloadMass'].values[0], \"kg\")"
   ]
  },
  {
   "cell_type": "markdown",
   "id": "5dba8f8d-5836-47ae-b5af-08d9a1b16474",
   "metadata": {},
   "source": [
    "### Task 5\n",
    "\n",
    "##### List the date when the first succesful landing outcome in ground pad was acheived.\n",
    "\n",
    "\n",
    "_Hint:Use min function_ \n"
   ]
  },
  {
   "cell_type": "code",
   "execution_count": 33,
   "id": "0675bf89-5269-44a9-b252-3d8ac46efa49",
   "metadata": {},
   "outputs": [
    {
     "name": "stdout",
     "output_type": "stream",
     "text": [
      "The first successful landing on a ground pad was achieved on: 2015-12-22\n",
      "Landing Outcome: Success (ground pad)\n"
     ]
    }
   ],
   "source": [
    "sql_query = \"\"\"\n",
    "SELECT \"Date\", \"Landing_Outcome\"\n",
    "FROM SPACEXTABLE\n",
    "WHERE \"Landing_Outcome\" = 'Success (ground pad)' \n",
    "ORDER BY Date ASC\n",
    "LIMIT 1\n",
    "\"\"\"\n",
    "\n",
    "result = pd.read_sql_query(sql_query, con)\n",
    "\n",
    "\n",
    "first_success_date = result['Date'].values[0]\n",
    "print(f\"The first successful landing on a ground pad was achieved on: {first_success_date}\")\n",
    "print(f\"Landing Outcome: {result['Landing_Outcome'].values[0]}\")\n"
   ]
  },
  {
   "cell_type": "markdown",
   "id": "34be04be-b207-475f-81f1-d75ee88b2c32",
   "metadata": {},
   "source": [
    "### Task 6\n",
    "\n",
    "##### List the names of the boosters which have success in drone ship and have payload mass greater than 4000 but less than 6000\n"
   ]
  },
  {
   "cell_type": "code",
   "execution_count": 38,
   "id": "4b8561e5-ea30-44ca-be1a-50ce84fb708c",
   "metadata": {},
   "outputs": [
    {
     "name": "stdout",
     "output_type": "stream",
     "text": [
      "Boosters with successful drone ship landings and payload mass between 4000 and 6000:\n",
      "F9 FT  B1021.2\n",
      "F9 FT  B1031.2\n",
      "F9 FT B1022\n",
      "F9 FT B1026\n"
     ]
    }
   ],
   "source": [
    "sql_query = \"\"\"\n",
    "SELECT DISTINCT \"Booster_Version\"\n",
    "FROM SPACEXTABLE\n",
    "WHERE \"Landing_Outcome\" = 'Success (drone ship)' \n",
    "    AND PAYLOAD_MASS__KG_ > 4000 \n",
    "    AND PAYLOAD_MASS__KG_ < 6000\n",
    "ORDER BY Booster_Version\n",
    "\"\"\"\n",
    "\n",
    "result = pd.read_sql_query(sql_query, con)\n",
    "\n",
    "if not result.empty:\n",
    "    print(\"Boosters with successful drone ship landings and payload mass between 4000 and 6000:\")\n",
    "    for booster in result['Booster_Version']:\n",
    "        print(booster)\n",
    "else:\n",
    "    print(\"No boosters found meeting the specified criteria.\")"
   ]
  },
  {
   "cell_type": "markdown",
   "id": "2d69ae1c-d4cd-45fc-aa05-ed8f475e068f",
   "metadata": {},
   "source": [
    "### Task 7\n",
    "\n",
    "\n",
    "\n",
    "\n",
    "##### List the total number of successful and failure mission outcomes\n"
   ]
  },
  {
   "cell_type": "code",
   "execution_count": 39,
   "id": "5811b71c-578a-4b7b-92d4-a0611164ee04",
   "metadata": {},
   "outputs": [
    {
     "name": "stdout",
     "output_type": "stream",
     "text": [
      "Mission Outcomes:\n",
      "                    Mission_Outcome  Count\n",
      "0                           Success     98\n",
      "1  Success (payload status unclear)      1\n",
      "2                          Success       1\n",
      "3               Failure (in flight)      1\n",
      "\n",
      "Total number of missions: 101\n"
     ]
    }
   ],
   "source": [
    "sql_query = \"\"\"\n",
    "SELECT \"Mission_Outcome\", COUNT(*) as Count\n",
    "FROM SPACEXTABLE\n",
    "GROUP BY \"Mission_Outcome\"\n",
    "ORDER BY Count DESC\n",
    "\"\"\"\n",
    "\n",
    "result = pd.read_sql_query(sql_query, con)\n",
    "\n",
    "print(\"Mission Outcomes:\")\n",
    "print(result)\n",
    "\n",
    "# Calculate total missions\n",
    "total_missions = result['Count'].sum()\n",
    "print(f\"\\nTotal number of missions: {total_missions}\")\n"
   ]
  },
  {
   "cell_type": "markdown",
   "id": "243df392-b791-4967-a8af-a2895dc8942b",
   "metadata": {},
   "source": [
    "### Task 8\n",
    "\n",
    "\n",
    "\n",
    "##### List the   names of the booster_versions which have carried the maximum payload mass. Use a subquery\n"
   ]
  },
  {
   "cell_type": "code",
   "execution_count": 42,
   "id": "562ac9e1-6409-44d2-84c1-30380abe699c",
   "metadata": {},
   "outputs": [
    {
     "name": "stdout",
     "output_type": "stream",
     "text": [
      "Booster version(s) which have carried the maximum payload mass:\n",
      "F9 B5 B1048.4\n",
      "F9 B5 B1049.4\n",
      "F9 B5 B1051.3\n",
      "F9 B5 B1056.4\n",
      "F9 B5 B1048.5\n",
      "F9 B5 B1051.4\n",
      "F9 B5 B1049.5\n",
      "F9 B5 B1060.2 \n",
      "F9 B5 B1058.3 \n",
      "F9 B5 B1051.6\n",
      "F9 B5 B1060.3\n",
      "F9 B5 B1049.7 \n"
     ]
    }
   ],
   "source": [
    "sql_query = \"\"\"\n",
    "SELECT DISTINCT \"Booster_Version\"\n",
    "FROM SPACEXTABLE\n",
    "WHERE \"PAYLOAD_MASS__KG_\" = (\n",
    "    SELECT MAX(PAYLOAD_MASS__KG_)\n",
    "    FROM SPACEXTABLE\n",
    ")\n",
    "\"\"\"\n",
    "\n",
    "result = pd.read_sql_query(sql_query, con)\n",
    "\n",
    "if not result.empty:\n",
    "    print(\"Booster version(s) which have carried the maximum payload mass:\")\n",
    "    for booster in result['Booster_Version']:\n",
    "        print(booster)\n",
    "else:\n",
    "    print(\"No booster versions found. This might indicate an issue with the data or query.\")\n"
   ]
  },
  {
   "cell_type": "markdown",
   "id": "cbb7b4f9-48d8-4094-bc8a-525cba71ffde",
   "metadata": {},
   "source": [
    "### Task 9\n",
    "\n",
    "\n",
    "##### List the records which will display the month names, failure landing_outcomes in drone ship ,booster versions, launch_site for the months in year 2015.\n",
    "\n",
    "**Note: SQLLite does not support monthnames. So you need to use  substr(Date, 6,2) as month to get the months and substr(Date,0,5)='2015' for year.**\n"
   ]
  },
  {
   "cell_type": "code",
   "execution_count": 43,
   "id": "6f3c1659-a135-4511-8539-a96b02b332af",
   "metadata": {},
   "outputs": [
    {
     "name": "stdout",
     "output_type": "stream",
     "text": [
      "Records for failed drone ship landings in 2015:\n",
      "      Month         Landing_Outcome Booster_Version  Launch_Site\n",
      "0  February      Controlled (ocean)   F9 v1.1 B1013  CCAFS LC-40\n",
      "1     March              No attempt   F9 v1.1 B1014  CCAFS LC-40\n",
      "2     April              No attempt   F9 v1.1 B1016  CCAFS LC-40\n",
      "3      June  Precluded (drone ship)   F9 v1.1 B1018  CCAFS LC-40\n",
      "4  December    Success (ground pad)     F9 FT B1019  CCAFS LC-40\n",
      "\n",
      "Number of records: 5\n"
     ]
    }
   ],
   "source": [
    "sql_query = \"\"\"\n",
    "SELECT \n",
    "    CASE \n",
    "        WHEN substr(Date, 6, 2) = '01' THEN 'January'\n",
    "        WHEN substr(Date, 6, 2) = '02' THEN 'February'\n",
    "        WHEN substr(Date, 6, 2) = '03' THEN 'March'\n",
    "        WHEN substr(Date, 6, 2) = '04' THEN 'April'\n",
    "        WHEN substr(Date, 6, 2) = '05' THEN 'May'\n",
    "        WHEN substr(Date, 6, 2) = '06' THEN 'June'\n",
    "        WHEN substr(Date, 6, 2) = '07' THEN 'July'\n",
    "        WHEN substr(Date, 6, 2) = '08' THEN 'August'\n",
    "        WHEN substr(Date, 6, 2) = '09' THEN 'September'\n",
    "        WHEN substr(Date, 6, 2) = '10' THEN 'October'\n",
    "        WHEN substr(Date, 6, 2) = '11' THEN 'November'\n",
    "        WHEN substr(Date, 6, 2) = '12' THEN 'December'\n",
    "    END AS Month,\n",
    "    Landing_Outcome,\n",
    "    Booster_Version,\n",
    "    Launch_Site\n",
    "FROM SPACEXTABLE\n",
    "WHERE substr(Date, 0, 5) = '2015'\n",
    "    AND Landing_Outcome != 'Failure (drone ship)'\n",
    "ORDER BY substr(Date, 6, 2)\n",
    "\"\"\"\n",
    "\n",
    "result = pd.read_sql_query(sql_query, con)\n",
    "\n",
    "if not result.empty:\n",
    "    print(\"Records for failed drone ship landings in 2015:\")\n",
    "    print(result)\n",
    "else:\n",
    "    print(\"No records found matching the criteria.\")\n",
    "\n",
    "# Display the number of records\n",
    "print(f\"\\nNumber of records: {len(result)}\")"
   ]
  },
  {
   "cell_type": "markdown",
   "id": "96c39afb-d88e-49eb-a86d-0459fb06ad6a",
   "metadata": {},
   "source": [
    "### Task 10\n",
    "\n",
    "\n",
    "\n",
    "\n",
    "##### Rank the count of landing outcomes (such as Failure (drone ship) or Success (ground pad)) between the date 2010-06-04 and 2017-03-20, in descending order.\n"
   ]
  },
  {
   "cell_type": "code",
   "execution_count": 44,
   "id": "df3c7b73-31ae-43d3-810b-b89653dbe8f2",
   "metadata": {},
   "outputs": [
    {
     "name": "stdout",
     "output_type": "stream",
     "text": [
      "Ranking of landing outcomes between 2010-06-04 and 2017-03-20:\n",
      "Rank 1: No attempt - Count: 10\n",
      "Rank 2: Success (drone ship) - Count: 5\n",
      "Rank 3: Failure (drone ship) - Count: 5\n",
      "Rank 4: Success (ground pad) - Count: 3\n",
      "Rank 5: Controlled (ocean) - Count: 3\n",
      "Rank 6: Uncontrolled (ocean) - Count: 2\n",
      "Rank 7: Failure (parachute) - Count: 2\n",
      "Rank 8: Precluded (drone ship) - Count: 1\n",
      "\n",
      "Total number of missions in this period: 31\n"
     ]
    }
   ],
   "source": [
    "#'Date', 'Time (UTC)', 'Booster_Version', 'Launch_Site', 'Payload',\n",
    "#       'PAYLOAD_MASS__KG_', 'Orbit', 'Customer', 'Mission_Outcome',\n",
    "#       'Landing_Outcome'\n",
    "\n",
    "sql_query = \"\"\"\n",
    "SELECT \n",
    "    \"Landing_Outcome\",\n",
    "    COUNT(*) as Count\n",
    "FROM SPACEXTABLE\n",
    "WHERE Date BETWEEN '2010-06-04' AND '2017-03-20'\n",
    "    AND \"Landing_Outcome\" IS NOT NULL\n",
    "    AND \"Landing_Outcome\" != ''\n",
    "GROUP BY \"Landing_Outcome\"\n",
    "ORDER BY Count DESC\n",
    "\"\"\"\n",
    "\n",
    "result = pd.read_sql_query(sql_query, con)\n",
    "\n",
    "if not result.empty:\n",
    "    print(\"Ranking of landing outcomes between 2010-06-04 and 2017-03-20:\")\n",
    "    for index, row in result.iterrows():\n",
    "        print(f\"Rank {index + 1}: {row['Landing_Outcome']} - Count: {row['Count']}\")\n",
    "else:\n",
    "    print(\"No landing outcome data found for the specified date range.\")\n",
    "\n",
    "# Display the total number of missions in this period\n",
    "total_missions = result['Count'].sum()\n",
    "print(f\"\\nTotal number of missions in this period: {total_missions}\")\n"
   ]
  },
  {
   "cell_type": "markdown",
   "id": "acf85b18-21f0-4ff7-a9c9-808370dd874a",
   "metadata": {},
   "source": [
    "### Reference Links\n",
    "\n",
    "* <a href =\"https://cf-courses-data.s3.us.cloud-object-storage.appdomain.cloud/IBMDeveloperSkillsNetwork-DB0201EN-SkillsNetwork/labs/Labs_Coursera_V5/labs/Lab%20-%20String%20Patterns%20-%20Sorting%20-%20Grouping/instructional-labs.md.html?origin=www.coursera.org\">Hands-on Lab : String Patterns, Sorting and Grouping</a>  \n",
    "\n",
    "*  <a  href=\"https://cf-courses-data.s3.us.cloud-object-storage.appdomain.cloud/IBMDeveloperSkillsNetwork-DB0201EN-SkillsNetwork/labs/Labs_Coursera_V5/labs/Lab%20-%20Built-in%20functions%20/Hands-on_Lab__Built-in_Functions.md.html?origin=www.coursera.org\">Hands-on Lab: Built-in functions</a>\n",
    "\n",
    "*  <a  href=\"https://cf-courses-data.s3.us.cloud-object-storage.appdomain.cloud/IBMDeveloperSkillsNetwork-DB0201EN-SkillsNetwork/labs/Labs_Coursera_V5/labs/Lab%20-%20Sub-queries%20and%20Nested%20SELECTs%20/instructional-labs.md.html?origin=www.coursera.org\">Hands-on Lab : Sub-queries and Nested SELECT Statements</a>\n",
    "\n",
    "*   <a href=\"https://cf-courses-data.s3.us.cloud-object-storage.appdomain.cloud/IBMDeveloperSkillsNetwork-DB0201EN-SkillsNetwork/labs/Module%205/DB0201EN-Week3-1-3-SQLmagic.ipynb\">Hands-on Tutorial: Accessing Databases with SQL magic</a>\n",
    "\n",
    "*  <a href= \"https://cf-courses-data.s3.us.cloud-object-storage.appdomain.cloud/IBMDeveloperSkillsNetwork-DB0201EN-SkillsNetwork/labs/Module%205/DB0201EN-Week3-1-4-Analyzing.ipynb\">Hands-on Lab: Analyzing a real World Data Set</a>\n",
    "\n",
    "\n"
   ]
  },
  {
   "cell_type": "markdown",
   "id": "75e66544-48cc-4d7b-a563-2e8a4e9714b7",
   "metadata": {},
   "source": [
    "## Author(s)\n",
    "\n",
    "<h4> Lakshmi Holla </h4>\n"
   ]
  },
  {
   "cell_type": "markdown",
   "id": "9798984a-19bf-40c3-9cd6-0db0878ff72e",
   "metadata": {},
   "source": [
    "## Other Contributors\n",
    "\n",
    "<h4> Rav Ahuja </h4>\n"
   ]
  },
  {
   "cell_type": "markdown",
   "id": "3faefaa5-2332-4df9-84a3-af7aa6db58f1",
   "metadata": {},
   "source": [
    "<!--\n",
    "## Change log\n",
    "| Date | Version | Changed by | Change Description |\n",
    "|------|--------|--------|---------|\n",
    "| 2024-07-10 | 1.1 |Anita Verma | Changed Version|\n",
    "| 2021-07-09 | 0.2 |Lakshmi Holla | Changes made in magic sql|\n",
    "| 2021-05-20 | 0.1 |Lakshmi Holla | Created Initial Version |\n",
    "-->\n"
   ]
  },
  {
   "cell_type": "markdown",
   "id": "a4a9f46a-b4ab-4400-9e5a-d4f94ef77ce1",
   "metadata": {},
   "source": [
    "## <h3 align=\"center\"> © IBM Corporation 2021. All rights reserved. <h3/>\n"
   ]
  }
 ],
 "metadata": {
  "kernelspec": {
   "display_name": "Python 3 (ipykernel)",
   "language": "python",
   "name": "python3"
  },
  "language_info": {
   "codemirror_mode": {
    "name": "ipython",
    "version": 3
   },
   "file_extension": ".py",
   "mimetype": "text/x-python",
   "name": "python",
   "nbconvert_exporter": "python",
   "pygments_lexer": "ipython3",
   "version": "3.11.4"
  },
  "prev_pub_hash": "a5fa84525a820d08c9ec9c9cccf7d39455745aa2be6c2efdd18931346283d2d9"
 },
 "nbformat": 4,
 "nbformat_minor": 4
}
